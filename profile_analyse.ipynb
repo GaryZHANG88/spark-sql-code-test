{
 "cells": [
  {
   "cell_type": "markdown",
   "id": "daebb557-89d2-4d96-a6df-b21a91add59a",
   "metadata": {},
   "source": [
    "This Notebook is for analyzing profile test data. The test data includes 20 json files. This notebook will load the data into dataframe and analyzed using Spark SQL."
   ]
  },
  {
   "cell_type": "markdown",
   "id": "f2cc345a-4932-49b0-9946-472ebeaa94b7",
   "metadata": {},
   "source": [
    "1. Import PySpark Library"
   ]
  },
  {
   "cell_type": "code",
   "execution_count": 1,
   "id": "839a1e07-9d85-478c-865c-75af1a28bfe6",
   "metadata": {
    "tags": []
   },
   "outputs": [],
   "source": [
    "from pyspark.sql import SparkSession"
   ]
  },
  {
   "cell_type": "markdown",
   "id": "c56d652a-2cdc-4077-8746-dc6bd2279cce",
   "metadata": {},
   "source": [
    "2. Create SparkSession"
   ]
  },
  {
   "cell_type": "code",
   "execution_count": 2,
   "id": "149fcb76-3e58-4fdc-8dfd-4bfcf4d20e64",
   "metadata": {
    "tags": []
   },
   "outputs": [],
   "source": [
    "spark = SparkSession \\\n",
    "    .builder \\\n",
    "    .appName(\"Profile Analyse\") \\\n",
    "    .config(\"spark.some.config.option\", \"some-value\") \\\n",
    "    .getOrCreate()"
   ]
  },
  {
   "cell_type": "markdown",
   "id": "90298e6e-52a8-4940-8681-6d32d2281879",
   "metadata": {},
   "source": [
    "3. Load JSON FILES"
   ]
  },
  {
   "cell_type": "code",
   "execution_count": 3,
   "id": "f9701f2a-ca45-4050-ba09-80624f0d48c4",
   "metadata": {
    "tags": []
   },
   "outputs": [],
   "source": [
    "df = spark.read.json(\"test_data/*.json\")"
   ]
  },
  {
   "cell_type": "markdown",
   "id": "de33a987-8e13-455d-9142-e8c3b79f34bd",
   "metadata": {},
   "source": [
    "4. Print DataFrame Schema"
   ]
  },
  {
   "cell_type": "code",
   "execution_count": 4,
   "id": "d0403451-1711-46ee-9cec-5404340cec62",
   "metadata": {},
   "outputs": [
    {
     "name": "stdout",
     "output_type": "stream",
     "text": [
      "root\n",
      " |-- id: string (nullable = true)\n",
      " |-- profile: struct (nullable = true)\n",
      " |    |-- firstName: string (nullable = true)\n",
      " |    |-- jobHistory: array (nullable = true)\n",
      " |    |    |-- element: struct (containsNull = true)\n",
      " |    |    |    |-- fromDate: string (nullable = true)\n",
      " |    |    |    |-- location: string (nullable = true)\n",
      " |    |    |    |-- salary: long (nullable = true)\n",
      " |    |    |    |-- title: string (nullable = true)\n",
      " |    |    |    |-- toDate: string (nullable = true)\n",
      " |    |-- lastName: string (nullable = true)\n",
      "\n"
     ]
    }
   ],
   "source": [
    "df.printSchema()"
   ]
  },
  {
   "cell_type": "markdown",
   "id": "ff5db572-b8e5-4327-b153-d799b9bcaaf1",
   "metadata": {},
   "source": [
    "5. Records in DataSet"
   ]
  },
  {
   "cell_type": "code",
   "execution_count": 6,
   "id": "ecc3791b-94d4-425e-94e7-2c93223b89bf",
   "metadata": {
    "tags": []
   },
   "outputs": [
    {
     "data": {
      "text/plain": [
       "17139693"
      ]
     },
     "execution_count": 6,
     "metadata": {},
     "output_type": "execute_result"
    }
   ],
   "source": [
    "df.count()"
   ]
  },
  {
   "cell_type": "markdown",
   "id": "e581ee2d-64fe-491b-ae55-198f511c34cc",
   "metadata": {},
   "source": [
    "6. Flatten Nested DataFrame (Data Preparation for Analysis)"
   ]
  },
  {
   "cell_type": "markdown",
   "id": "75db769c-83d9-4fc0-8432-3de300c82f27",
   "metadata": {},
   "source": [
    "Firstly, convert firstName, lastName and jobHistory into columns"
   ]
  },
  {
   "cell_type": "code",
   "execution_count": 10,
   "id": "14ffdb73-b7ab-4c59-a631-0f38f5684de1",
   "metadata": {
    "tags": []
   },
   "outputs": [],
   "source": [
    "nested_df = df.select(\"id\", \"profile.firstName\", \"profile.lastName\", \"profile.jobHistory\")"
   ]
  },
  {
   "cell_type": "markdown",
   "id": "1393143c-8094-4390-9bbf-aec006d050ab",
   "metadata": {},
   "source": [
    "Secondly, use explode function to explode jobHistory array into multiple rows"
   ]
  },
  {
   "cell_type": "code",
   "execution_count": 11,
   "id": "765b58f7-4d17-4cb3-9099-08e454ef527d",
   "metadata": {
    "tags": []
   },
   "outputs": [],
   "source": [
    "from pyspark.sql.functions import explode\n",
    "exploded_df = nested_df.withColumn(\"jobHistory\", explode(nested_df.jobHistory))"
   ]
  },
  {
   "cell_type": "markdown",
   "id": "e2405e6a-26a0-4445-9853-60deca9cb559",
   "metadata": {},
   "source": [
    "Thirdly, convert fromDate, location, salary, title, toDate into columns"
   ]
  },
  {
   "cell_type": "code",
   "execution_count": 12,
   "id": "fbd1e223-0cc6-4569-b925-2e078be5d4ee",
   "metadata": {
    "tags": []
   },
   "outputs": [],
   "source": [
    "flattern_df = exploded_df.select(\"id\", \"firstName\", \"lastName\", \"jobHistory.fromDate\", \"jobHistory.location\", \"jobHistory.salary\", \"jobHistory.title\", \"jobHistory.toDate\")"
   ]
  },
  {
   "cell_type": "code",
   "execution_count": null,
   "id": "e32c3d47-66b4-4b2b-b2f7-c6c781597848",
   "metadata": {},
   "outputs": [],
   "source": [
    "7. Create TempView for dataFrame"
   ]
  },
  {
   "cell_type": "code",
   "execution_count": 13,
   "id": "58e15ec1-d979-4521-8809-c7f1623ad12f",
   "metadata": {
    "tags": []
   },
   "outputs": [],
   "source": [
    "flattern_df.createOrReplaceTempView(\"people\")"
   ]
  },
  {
   "cell_type": "markdown",
   "id": "8dc741fd-ef4c-41cb-83cf-9b58df6ef538",
   "metadata": {},
   "source": [
    "8. Average Salary for each profile"
   ]
  },
  {
   "cell_type": "code",
   "execution_count": 14,
   "id": "4321f111-f3a6-4ef7-a7cc-073a838d7275",
   "metadata": {
    "tags": []
   },
   "outputs": [
    {
     "name": "stdout",
     "output_type": "stream",
     "text": [
      "+--------------------+---------+--------+------------------+\n",
      "|                  id|firstName|lastName|         avgSalary|\n",
      "+--------------------+---------+--------+------------------+\n",
      "|5894afab-574f-429...|  Richard|  Zywiec|           69625.0|\n",
      "|82dab74c-3946-45b...|   Robert|  Zywiec| 66833.33333333333|\n",
      "|ba24222d-6e39-40d...|  Matthew|  Zywiec|           65500.0|\n",
      "|3462e81b-a9cc-4ac...|   Sandra| Zywicki|43333.333333333336|\n",
      "|4e26c80a-8e84-46f...|    Bobby| Zywicki| 78166.66666666667|\n",
      "|eeb15ed5-fb0d-4d6...|    Donna| Zywicki|          115000.0|\n",
      "|b8a6bf60-03da-4e0...|     Paul| Zywicki| 98166.66666666667|\n",
      "|f643f39c-e18a-430...|   Calvin| Zywicki|125428.57142857143|\n",
      "|56cc651c-0bbd-492...|    Katie| Zywicki|           55250.0|\n",
      "|920e1983-c8da-458...|    Lovie| Zywicki| 63571.42857142857|\n",
      "+--------------------+---------+--------+------------------+\n",
      "\n"
     ]
    }
   ],
   "source": [
    "sqlDF = spark.sql(\"SELECT id, firstName, lastName, avg(salary) as avgSalary FROM people group by id, firstName, lastName order by lastName desc limit 10\")\n",
    "sqlDF.show()"
   ]
  },
  {
   "cell_type": "markdown",
   "id": "f46b48a6-df44-435f-a1b4-fd4e33ac0c58",
   "metadata": {},
   "source": [
    "9. Average Salary for whole DataSet"
   ]
  },
  {
   "cell_type": "code",
   "execution_count": 15,
   "id": "986a2e70-8580-4b6f-8fb5-3ff7d1356bb9",
   "metadata": {
    "tags": []
   },
   "outputs": [
    {
     "name": "stdout",
     "output_type": "stream",
     "text": [
      "+----------------+\n",
      "|       avgSalary|\n",
      "+----------------+\n",
      "|97473.6229416272|\n",
      "+----------------+\n",
      "\n"
     ]
    }
   ],
   "source": [
    "sqlDF = spark.sql(\"SELECT avg(salary) as avgSalary FROM people\")\n",
    "sqlDF.show()"
   ]
  },
  {
   "cell_type": "code",
   "execution_count": null,
   "id": "f4c59062-7e0b-44e3-99c1-4210fc184797",
   "metadata": {},
   "outputs": [],
   "source": []
  }
 ],
 "metadata": {
  "kernelspec": {
   "display_name": "Python 3 (ipykernel)",
   "language": "python",
   "name": "python3"
  },
  "language_info": {
   "codemirror_mode": {
    "name": "ipython",
    "version": 3
   },
   "file_extension": ".py",
   "mimetype": "text/x-python",
   "name": "python",
   "nbconvert_exporter": "python",
   "pygments_lexer": "ipython3",
   "version": "3.10.10"
  }
 },
 "nbformat": 4,
 "nbformat_minor": 5
}
