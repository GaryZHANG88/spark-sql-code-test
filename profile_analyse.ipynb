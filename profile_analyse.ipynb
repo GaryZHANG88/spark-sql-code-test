{
 "cells": [
  {
   "cell_type": "markdown",
   "id": "daebb557-89d2-4d96-a6df-b21a91add59a",
   "metadata": {},
   "source": [
    "This Notebook is for analyzing profile test data. The test data includes 20 json files. This notebook will load the data into dataframe and analyzed using Spark SQL."
   ]
  },
  {
   "cell_type": "markdown",
   "id": "f2cc345a-4932-49b0-9946-472ebeaa94b7",
   "metadata": {},
   "source": [
    "1. Import PySpark Library"
   ]
  },
  {
   "cell_type": "code",
   "execution_count": 1,
   "id": "839a1e07-9d85-478c-865c-75af1a28bfe6",
   "metadata": {
    "tags": []
   },
   "outputs": [],
   "source": [
    "from pyspark.sql import SparkSession"
   ]
  },
  {
   "cell_type": "markdown",
   "id": "c56d652a-2cdc-4077-8746-dc6bd2279cce",
   "metadata": {},
   "source": [
    "2. Create SparkSession"
   ]
  },
  {
   "cell_type": "code",
   "execution_count": 2,
   "id": "149fcb76-3e58-4fdc-8dfd-4bfcf4d20e64",
   "metadata": {
    "tags": []
   },
   "outputs": [],
   "source": [
    "spark = SparkSession \\\n",
    "    .builder \\\n",
    "    .appName(\"Profile Analyse\") \\\n",
    "    .config(\"spark.some.config.option\", \"some-value\") \\\n",
    "    .getOrCreate()"
   ]
  },
  {
   "cell_type": "markdown",
   "id": "90298e6e-52a8-4940-8681-6d32d2281879",
   "metadata": {},
   "source": [
    "3. Load JSON FILES"
   ]
  },
  {
   "cell_type": "code",
   "execution_count": 3,
   "id": "f9701f2a-ca45-4050-ba09-80624f0d48c4",
   "metadata": {
    "tags": []
   },
   "outputs": [],
   "source": [
    "df = spark.read.json(\"test_data/*.json\")"
   ]
  },
  {
   "cell_type": "markdown",
   "id": "de33a987-8e13-455d-9142-e8c3b79f34bd",
   "metadata": {},
   "source": [
    "4. Print DataFrame Schema"
   ]
  },
  {
   "cell_type": "code",
   "execution_count": 4,
   "id": "d0403451-1711-46ee-9cec-5404340cec62",
   "metadata": {},
   "outputs": [
    {
     "name": "stdout",
     "output_type": "stream",
     "text": [
      "root\n",
      " |-- id: string (nullable = true)\n",
      " |-- profile: struct (nullable = true)\n",
      " |    |-- firstName: string (nullable = true)\n",
      " |    |-- jobHistory: array (nullable = true)\n",
      " |    |    |-- element: struct (containsNull = true)\n",
      " |    |    |    |-- fromDate: string (nullable = true)\n",
      " |    |    |    |-- location: string (nullable = true)\n",
      " |    |    |    |-- salary: long (nullable = true)\n",
      " |    |    |    |-- title: string (nullable = true)\n",
      " |    |    |    |-- toDate: string (nullable = true)\n",
      " |    |-- lastName: string (nullable = true)\n",
      "\n"
     ]
    }
   ],
   "source": [
    "df.printSchema()"
   ]
  },
  {
   "cell_type": "code",
   "execution_count": null,
   "id": "9d20430c-5dc1-4daf-b263-4c6ff2e65e03",
   "metadata": {},
   "outputs": [],
   "source": []
  }
 ],
 "metadata": {
  "kernelspec": {
   "display_name": "Python 3 (ipykernel)",
   "language": "python",
   "name": "python3"
  },
  "language_info": {
   "codemirror_mode": {
    "name": "ipython",
    "version": 3
   },
   "file_extension": ".py",
   "mimetype": "text/x-python",
   "name": "python",
   "nbconvert_exporter": "python",
   "pygments_lexer": "ipython3",
   "version": "3.10.10"
  }
 },
 "nbformat": 4,
 "nbformat_minor": 5
}
