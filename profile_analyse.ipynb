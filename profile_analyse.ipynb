{
 "cells": [
  {
   "cell_type": "markdown",
   "id": "daebb557-89d2-4d96-a6df-b21a91add59a",
   "metadata": {},
   "source": [
    "This Notebook is for analyzing profile test data. The test data includes 20 json files. This notebook will load the data into dataframe and analyzed using Spark SQL."
   ]
  },
  {
   "cell_type": "markdown",
   "id": "f2cc345a-4932-49b0-9946-472ebeaa94b7",
   "metadata": {},
   "source": [
    "1. Import PySpark Library"
   ]
  },
  {
   "cell_type": "code",
   "execution_count": 1,
   "id": "839a1e07-9d85-478c-865c-75af1a28bfe6",
   "metadata": {
    "tags": []
   },
   "outputs": [],
   "source": [
    "from pyspark.sql import SparkSession"
   ]
  },
  {
   "cell_type": "markdown",
   "id": "c56d652a-2cdc-4077-8746-dc6bd2279cce",
   "metadata": {},
   "source": [
    "2. Create SparkSession"
   ]
  },
  {
   "cell_type": "code",
   "execution_count": 10,
   "id": "149fcb76-3e58-4fdc-8dfd-4bfcf4d20e64",
   "metadata": {
    "tags": []
   },
   "outputs": [],
   "source": [
    "spark = SparkSession \\\n",
    "    .builder \\\n",
    "    .appName(\"Profile Analyse\") \\\n",
    "    .config(\"spark.some.config.option\", \"some-value\") \\\n",
    "    .getOrCreate()"
   ]
  },
  {
   "cell_type": "markdown",
   "id": "90298e6e-52a8-4940-8681-6d32d2281879",
   "metadata": {},
   "source": [
    "3. Load JSON FILES"
   ]
  },
  {
   "cell_type": "code",
   "execution_count": 12,
   "id": "f9701f2a-ca45-4050-ba09-80624f0d48c4",
   "metadata": {
    "tags": []
   },
   "outputs": [],
   "source": [
    "df = spark.read.json(\"test_data/*.json\")"
   ]
  },
  {
   "cell_type": "code",
   "execution_count": null,
   "id": "593fcf5b-e744-496a-ad1c-7c20d0857bb7",
   "metadata": {},
   "outputs": [],
   "source": []
  },
  {
   "cell_type": "code",
   "execution_count": null,
   "id": "d0403451-1711-46ee-9cec-5404340cec62",
   "metadata": {},
   "outputs": [],
   "source": []
  }
 ],
 "metadata": {
  "kernelspec": {
   "display_name": "Python 3 (ipykernel)",
   "language": "python",
   "name": "python3"
  },
  "language_info": {
   "codemirror_mode": {
    "name": "ipython",
    "version": 3
   },
   "file_extension": ".py",
   "mimetype": "text/x-python",
   "name": "python",
   "nbconvert_exporter": "python",
   "pygments_lexer": "ipython3",
   "version": "3.10.10"
  }
 },
 "nbformat": 4,
 "nbformat_minor": 5
}
